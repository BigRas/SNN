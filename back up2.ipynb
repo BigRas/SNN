   "source": [
    "Gl = [[0 for x in range(len(time))] for y in range(len(x))] \n",
    "Gm = [[0 for x in range(len(time))] for y in range(len(x))] \n",
    "Gs = [[0 for x in range(len(time))] for y in range(len(x))]\n",
    "cgl = 0\n",
    "for i in range(len(Pb)):\n",
    "    for j in range(len(Pb[0])):\n",
    "        print(Pb[i][0])\n",
    "        for k, t in enumerate(time):\n",
    "            print('j',t)\n",
    "            if Pb[i][0] >= t:\n",
    "                Gl[i][k] = 1 \n",
    "                cgl = cgl +1\n",
    "                print('k',k,'Gl[i][j]',Gl[i][j])\n",
    "#         else:\n",
    "#              Gl[i][j] = 0   \n",
    "#         tempG = T*(pn[1]/maxG)\n",
    "#         if tempG >= t:\n",
    "#             Gm[i][j] = 1 \n",
    "#         else:\n",
    "#              Gm[i][j] = 0 \n",
    "#         tempB = T*(pn[2]/maxG)        \n",
    "#         if tempB >= t:\n",
    "#             Gs[i][j] = 1 \n",
    "#         else:\n",
    "#              Gs[i][j] = 0        "
   ]
  },
  {
   "cell_type": "code",
   "execution_count": null,
   "metadata": {},
   "outputs": [],
   "source": [
    "print(cgl)"
   ]
  },
  {
   "cell_type": "code",
   "execution_count": null,
   "metadata": {},
   "outputs": [],
   "source": [
    "# Gr = [] \n",
    "# Gg = []\n",
    "# for i,pn in enumerate(x):\n",
    "#     for j, t in enumerate(time):\n",
    "#         tempR = T*(pn[0]/maxR)\n",
    "#         if tempR >= t:\n",
    "#               Gr.append(1) \n",
    "#         else:\n",
    "#             Gr.append(0)  \n",
    "#         tempG = T*(pn[1]/maxG)\n",
    "#         if tempG >= t:\n",
    "#                Gg.append(1) \n",
    "#         else:\n",
    "#               Gg.append(0) "
   ]
  },
  {
   "cell_type": "markdown",
   "metadata": {},
   "source": [
    "### End of encoding process"
   ]
  },
  {
   "cell_type": "markdown",
   "metadata": {},
   "source": [
    "# Membrane potential"
   ]
  },
  {
   "cell_type": "markdown",
   "metadata": {},
   "source": [
    "### prepration "
   ]
  },
  {
   "cell_type": "markdown",
   "metadata": {},
   "source": [
    "## Gl calculation"
   ]
  },
  {
   "cell_type": "code",
   "execution_count": null,
   "metadata": {},
   "outputs": [],
   "source": [
    "k = 0\n",
    "for i in range(len(Gl)):\n",
    "    for j in range(len(Gl[0])):\n",
    "        k = k+1\n",
    "        Gl[i][j]=  (Gl[i][j])*C*(exp(-dt/tau))"
   ]
  },
  {
   "cell_type": "code",
   "execution_count": null,
   "metadata": {},
   "outputs": [],
   "source": [
    "print(k)"
   ]
  },
  {
   "cell_type": "code",
   "execution_count": null,
   "metadata": {},
   "outputs": [],
   "source": [
    "kk = 0  # number of spikes\n",
    "for i in range(len(Gl)):\n",
    "    for j in range(len(Gl[0])):\n",
    "        if Gl[i][j] != 0:\n",
    "            print(i,j, Gl[i][j])\n",
    "            kk = kk+1\n",
    "print(kk)"
   ]
  },
  {
   "cell_type": "code",
   "execution_count": null,
   "metadata": {},
   "outputs": [],
   "source": [
    "# dt or  t\n",
    "# for i in range(len(Pb)):\n",
    "#     for j,t in enumerate(time):\n",
    "#         Gl[i][j]=  (Gl[i][j])*C*(exp(-t/tau))"
   ]
  },
  {
   "cell_type": "markdown",
   "metadata": {},
   "source": [
    "### Gm Calculation"
   ]
  },
  {
   "cell_type": "code",
   "execution_count": null,
   "metadata": {},
   "outputs": [],
   "source": [
    "for i in range(len(x)):\n",
    "    for j in range(len(time)):\n",
    "        Gm[i][j]=  (Gm[i][j])*C*(exp(-dt/tau))"
   ]
  },
  {
   "cell_type": "markdown",
   "metadata": {},
   "source": [
    "### Gs Calculation"
   ]
  },
  {
   "cell_type": "code",
   "execution_count": null,
   "metadata": {},
   "outputs": [],
   "source": [
    "for i in range(len(x)):\n",
    "    for j in range(len(time)):\n",
    "        Gs[i][j]=  (Gs[i][j])*C*(exp(-dt/tau))"
   ]
  },
  {
   "cell_type": "markdown",
   "metadata": {},
   "source": [
    "## Pre-synaptic potentials  "
   ]
  },
  {
   "cell_type": "markdown",
   "metadata": {},
   "source": [
    "### equation 2"
   ]
  },
  {
   "cell_type": "code",
   "execution_count": null,
   "metadata": {},
   "outputs": [],
   "source": [
    "Grg = [[0 for x in range(len(time))] for y in range(len(x))] \n",
    "for i in range(len(x)):\n",
    "    for j in range(len(time)):\n",
    "        Grg[i][j]= yl*Gl[i][j] - ym*Gm[i][j] "
   ]
  },
  {
   "cell_type": "markdown",
   "metadata": {},
   "source": [
    "### equation 3"
   ]
  },
  {
   "cell_type": "code",
   "execution_count": null,
   "metadata": {},
   "outputs": [],
   "source": [
    "Gby = [[0 for x in range(len(time))] for y in range(len(x))] \n",
    "for i in range(len(x)):\n",
    "    for j in range(len(time)):\n",
    "        Gby[i][j]= bs*Gs[i][j] - (bl*Gl[i][j] + bm*Gm[i][j]) "
   ]
  },
  {
   "cell_type": "markdown",
   "metadata": {},
   "source": [
    "## Membrane potential at time"
   ]
  },
  {
   "cell_type": "code",
   "execution_count": null,
   "metadata": {},
   "outputs": [],
   "source": [
    "# Un = zeros(len(time))  # membrane potential of neurons \n",
    "# S = zeros(len(time))\n",
    "# t0 = time[0]\n",
    "# for i,t in enumerate(time):\n",
    "#     if i==0:\n",
    "#         S[i] = 0\n",
    "#         Un[i] = ur    \n",
    "#     else:\n",
    "#         V = V + G*C*(exp(-dt/tau))\n",
    "#         Un[i] = ur*(exp(-(t-t0)/tau)) + V\n",
    "#         if Un[i]+V >= uth:  \n",
    "#             S[i] = 1\n",
    "#             V = 0\n",
    "#             Un[i] = ur\n",
    "#             t0 = t\n",
    "#         else:\n",
    "#             S[i]=0"
   ]
  },
  {
   "cell_type": "code",
   "execution_count": null,
   "metadata": {},
   "outputs": [],
   "source": [
    "Un = [[0 for x in range(len(time))] for y in range(len(x))]    # membrane potential of neurons \n",
    "S =  [[0 for x in range(len(time))] for y in range(len(x))]\n",
    "t0 = time[0]\n",
    "V = 0\n",
    "for i in range(len(Un)):\n",
    "    for j,t in enumerate(time):\n",
    "        if j==0:\n",
    "            S[i][j] = 0\n",
    "            Un[i][j] = ur   \n",
    "        else:\n",
    "            print(i,j, Gl[i][j])\n",
    "            tempG= Gl[i][j]\n",
    "            V = V + tempG\n",
    "            Un[i][j]=(ur*(exp(-(t-t0)/tau)) + V)\n",
    "            if (Un[i][j])+V >= uth:  \n",
    "                S[i][j]= 1\n",
    "                V = 0\n",
    "                Un[i][j] = ur \n",
    "                t0 = t\n",
    "            else:\n",
    "                 S[i][j]= 0"
   ]
  },
  {
   "cell_type": "code",
   "execution_count": null,
   "metadata": {},
   "outputs": [],
   "source": [
    "print(Un[500][0])"
   ]
  },
  {
   "cell_type": "code",
   "execution_count": null,
   "metadata": {},
   "outputs": [],
   "source": [
    "print(temcount)"
   ]
  },
  {
   "cell_type": "code",
   "execution_count": null,
   "metadata": {},
   "outputs": [],
   "source": [
    "c = 0  # number of spikes\n",
    "for i in range(len(S)):\n",
    "    for j in range(len(S[0])):\n",
    "        if S[i][j] > 0:\n",
    "            print(i,j)\n",
    "            c = c+1\n",
    "print(c)"
   ]
  },
  {
   "cell_type": "markdown",
   "metadata": {},
   "source": [
    "## post-synaptic spikes"
   ]
  },
  {
   "cell_type": "markdown",
   "metadata": {},
   "source": [
    "### Firing threshold"
   ]
  },
  {
   "cell_type": "code",
   "execution_count": null,
   "metadata": {},
   "outputs": [],
   "source": [
    "Erg = [[0 for x in range(len(time))] for y in range(len(x))] \n",
    "for i in range(len(Erg)):\n",
    "    for j in range(len(Erg[0])):\n",
    "           if S[i][j] > 0:\n",
    "                print(i,j)\n",
    "                Erg[i][j]= Erg[i][j-1] + exp(uth-Erg[i][j-1])"
   ]
  },
  {
   "cell_type": "code",
   "execution_count": null,
   "metadata": {},
   "outputs": [],
   "source": [
    "print(Erg[1][0])"
   ]
  },
  {
   "cell_type": "code",
   "execution_count": null,
   "metadata": {},
   "outputs": [],
   "source": [
    "Frg = [[0 for x in range(len(time))] for y in range(len(x))] \n",
    "for i in range(len(x)):\n",
    "    for j in range(len(time)):\n",
    "        if Grg[i][j] >= Erg[i][j]:\n",
    "            Frg[i][j] = 1\n",
    "        else:\n",
    "            Frg[i][j] = 0   \n",
    "    "
   ]
  },
  {
   "cell_type": "code",
   "execution_count": null,
   "metadata": {},
   "outputs": [],
   "source": [
    "co = 0\n",
    "for i in range(len(Frg)):\n",
    "    for j in range(len(Frg[0])):\n",
    "        if Frg[i][j] == 1:\n",
    "            co = co +1\n",
    "print(co)            "
   ]
  },
  {
   "cell_type": "code",
   "execution_count": null,
   "metadata": {},
   "outputs": [],
   "source": [
    "for i in range(len(Un)):\n",
    "       if i<10:\n",
    "        plt.plot(time,[p[i] for pt in Un[i]],label = 'time %s'%i)\n",
    "plt.legend()\n",
    "plt.show()"
   ]
  },
  {
   "cell_type": "code",
   "execution_count": null,
   "metadata": {},
   "outputs": [],
   "source": [
    "for i in range(len(S)):\n",
    "       if i<5:\n",
    "        plt.plot(time,[p[i] for pt in S[i]],label = 'time %s'%i)\n",
    "plt.legend()\n",
    "plt.show()"
   ]
  },
  {
   "cell_type": "code",
   "execution_count": null,
   "metadata": {},
   "outputs": [],
   "source": []
  },
  {
   "cell_type": "code",
   "execution_count": null,
   "metadata": {},
   "outputs": [],
   "source": []
  },
  {
   "cell_type": "code",
   "execution_count": null,
   "metadata": {},
   "outputs": [],
   "source": []
  },
  {
   "cell_type": "code",
   "execution_count": null,
   "metadata": {},
   "outputs": [],
   "source": []
  },
  {
   "cell_type": "code",
   "execution_count": null,
   "metadata": {},
   "outputs": [],
   "source": []
  }
 ],
 "metadata": {
  "kernelspec": {
   "display_name": "Python 3",
   "language": "python",
   "name": "python3"
  },
  "language_info": {
   "codemirror_mode": {
    "name": "ipython",
    "version": 3
   },
   "file_extension": ".py",
   "mimetype": "text/x-python",
   "name": "python",
   "nbconvert_exporter": "python",
   "pygments_lexer": "ipython3",
   "version": "3.7.6"
  }
 },
 "nbformat": 4,
 "nbformat_minor": 4
}
